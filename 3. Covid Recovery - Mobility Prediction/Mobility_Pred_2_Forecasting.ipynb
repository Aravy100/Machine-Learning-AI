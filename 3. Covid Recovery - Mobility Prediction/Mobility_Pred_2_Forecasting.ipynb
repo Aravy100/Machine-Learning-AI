{
 "cells": [
  {
   "cell_type": "code",
   "execution_count": 1,
   "metadata": {
    "scrolled": true
   },
   "outputs": [
    {
     "ename": "ImportError",
     "evalue": "No module named pmdarima",
     "output_type": "error",
     "traceback": [
      "\u001b[1;31m---------------------------------------------------------------------------\u001b[0m",
      "\u001b[1;31mImportError\u001b[0m                               Traceback (most recent call last)",
      "\u001b[1;32m<ipython-input-1-5b4d2c46d5f3>\u001b[0m in \u001b[0;36m<module>\u001b[1;34m()\u001b[0m\n\u001b[0;32m      2\u001b[0m \u001b[1;32mimport\u001b[0m \u001b[0mpandas\u001b[0m \u001b[1;32mas\u001b[0m \u001b[0mpd\u001b[0m\u001b[1;33m\u001b[0m\u001b[0m\n\u001b[0;32m      3\u001b[0m \u001b[1;32mimport\u001b[0m \u001b[0mtimeit\u001b[0m\u001b[1;33m\u001b[0m\u001b[0m\n\u001b[1;32m----> 4\u001b[1;33m \u001b[1;32mimport\u001b[0m \u001b[0mpmdarima\u001b[0m \u001b[1;32mas\u001b[0m \u001b[0mpm\u001b[0m\u001b[1;33m\u001b[0m\u001b[0m\n\u001b[0m",
      "\u001b[1;31mImportError\u001b[0m: No module named pmdarima"
     ]
    }
   ],
   "source": [
    "# Import Packages\n",
    "import pandas as pd\n",
    "import timeit\n",
    "import pmdarima as pm"
   ]
  },
  {
   "cell_type": "code",
   "execution_count": 2,
   "metadata": {},
   "outputs": [],
   "source": [
    "file=\"C:\\\\Users\\\\kasthurirangan.sampa\\\\Downloads\\\\dashboard refresh\\\\applemobilitytrends-2020-07-18.csv\"\n",
    "data=pd.read_csv(file)\n",
    "temp1 = pd.melt(data, id_vars=['geo_type', 'region', 'transportation_type', 'alternative_name',\n",
    "       'sub-region', 'country'], var_name='Date', value_name='Value')\n",
    "temp1=temp1[(temp1[\"geo_type\"]==\"sub-region\")&(temp1[\"country\"]==\"United States\")]\n",
    "temp1[\"Date\"]=pd.to_datetime(temp1['Date'])\n",
    "temp2=temp1.pivot(index='Date',columns='region', values='Value')"
   ]
  },
  {
   "cell_type": "code",
   "execution_count": 7,
   "metadata": {},
   "outputs": [],
   "source": [
    "max_date=max(temp1['Date']) - pd.DateOffset(4)\n",
    "max1_Date=max(temp1['Date'])+ pd.DateOffset(6)\n",
    "temp1[\"Date\"]=pd.to_datetime(temp1['Date'])"
   ]
  },
  {
   "cell_type": "code",
   "execution_count": null,
   "metadata": {},
   "outputs": [],
   "source": [
    "output=pd.DataFrame()\n",
    "start = timeit.default_timer()\n",
    "for region in temp1.region.unique():\n",
    "#for region in region_list:\n",
    "    print(\"\\n Region:\",region)\n",
    "    temp=temp1[temp1[\"region\"]==region]\n",
    "    temp2=temp[temp['Date']<=max_date]\n",
    "    temp2=temp2[['Date', 'Value']]\n",
    "    temp2 = temp2.fillna(method = 'ffill')\n",
    "    temp2.set_index(\"Date\", inplace = True) \n",
    "    model = pm.auto_arima(temp2[\"Value\"],\n",
    "                      m = 10, seasonal = True,\n",
    "                      start_p = 0,start_q=0,max_order=4,test='adf',error_action = 'ignore',\n",
    "                      suppress_warnings =True,\n",
    "                      stepwise =True,trace = True)\n",
    "    forecast = model.predict(n_periods=10,return_conf_int=True)\n",
    "    forecast_range = pd.date_range(start=max1_Date,periods=10,freq='D')\n",
    "    lower = pd.Series(forecast[1][:,0],index=forecast_range)\n",
    "    upper = pd.Series(forecast[1][:,1],index=forecast_range)\n",
    "    forecast_df = pd.DataFrame(forecast[0],index=forecast_range,columns=['Apple_mobility_Prediction'])\n",
    "    forecast_df['Apple_mobility_lower']=lower\n",
    "    forecast_df['Apple_mobility_upper']=upper\n",
    "    forecast_df['Apple_mobility_region']=region\n",
    "    output=output.append(forecast_df)\n",
    "stop = timeit.default_timer()\n",
    "Total_Time=(stop - start)/60 \n",
    "print('Time: '+str(Total_Time)+' Minutes')"
   ]
  },
  {
   "cell_type": "code",
   "execution_count": null,
   "metadata": {},
   "outputs": [],
   "source": [
    "output.to_csv(\"C:\\\\Users\\\\kasthurirangan.sampa\\\\Downloads\\\\applemobilitytrends_predicted-2020-07-12.csv\")"
   ]
  },
  {
   "cell_type": "code",
   "execution_count": null,
   "metadata": {},
   "outputs": [],
   "source": [
    "file=\"C:\\\\Users\\\\kasthurirangan.sampa\\\\Downloads\\\\Global_Mobility_Report.csv\"\n",
    "data=pd.read_csv(file)\n",
    "data=data[(data[\"country_region_code\"]=='US')&(~data[\"sub_region_1\"].isnull())&(data[\"sub_region_2\"].isnull())]\n",
    "metric_columns=['retail_and_recreation_percent_change_from_baseline',\n",
    "       'grocery_and_pharmacy_percent_change_from_baseline',\n",
    "       'parks_percent_change_from_baseline',\n",
    "       'transit_stations_percent_change_from_baseline',\n",
    "       'residential_percent_change_from_baseline']\n",
    "data['date']=pd.to_datetime(data['date'])"
   ]
  },
  {
   "cell_type": "code",
   "execution_count": null,
   "metadata": {},
   "outputs": [],
   "source": [
    "output=pd.DataFrame()\n",
    "start = timeit.default_timer()\n",
    "for region in data.sub_region_1.unique():\n",
    "#for region in region_list:\n",
    "    for metric in metric_columns:\n",
    "        print(\"\\n Region: \"+region+\"Metric: \"+metric)\n",
    "        temp=data[data[\"sub_region_1\"]==region]\n",
    "        temp2=temp[temp['date']<=max_date]\n",
    "        temp2=temp2[['date', metric]]\n",
    "        temp2 = temp2.fillna(method = 'ffill')\n",
    "        temp2.set_index(\"date\", inplace = True) \n",
    "        model = pm.auto_arima(temp2[metric],\n",
    "                          m = 10, seasonal = True,\n",
    "                          start_p = 0,start_q=0,max_order=4,test='adf',error_action = 'ignore',\n",
    "                          suppress_warnings =True,\n",
    "                          stepwise =True,trace = True)\n",
    "        forecast = model.predict(n_periods=10,return_conf_int=True)\n",
    "        forecast_range = pd.date_range(start=max1_Date,periods=10,freq='D')\n",
    "        lower = pd.Series(forecast[1][:,0],index=forecast_range)\n",
    "        upper = pd.Series(forecast[1][:,1],index=forecast_range)\n",
    "        if metric==\"retail_and_recreation_percent_change_from_baseline\":\n",
    "            forecast_df = pd.DataFrame(forecast[0],index=forecast_range,columns=[metric+'_Prediction'])\n",
    "        else:\n",
    "            forecast_df[metric+'_Prediction']=pd.Series(forecast[0],index=forecast_range)\n",
    "        forecast_df[metric+'_lower']=lower\n",
    "        forecast_df[metric+'_upper']=upper\n",
    "    forecast_df['sub_region_1']=region\n",
    "        #forecast_df['metric']=metric\n",
    "    output=output.append(forecast_df)\n",
    "stop = timeit.default_timer()\n",
    "Total_Time=(stop - start)/60 \n",
    "print('Time: '+str(Total_Time)+' Minutes')\n",
    "output.to_csv(\"C:\\\\Users\\\\kasthurirangan.sampa\\\\Downloads\\\\Googlemobilitytrends_predicted-2020-07-14.csv\")"
   ]
  }
 ],
 "metadata": {
  "kernelspec": {
   "display_name": "Python 3",
   "language": "python",
   "name": "python3"
  },
  "language_info": {
   "codemirror_mode": {
    "name": "ipython",
    "version": 3
   },
   "file_extension": ".py",
   "mimetype": "text/x-python",
   "name": "python",
   "nbconvert_exporter": "python",
   "pygments_lexer": "ipython3",
   "version": "3.8.3"
  }
 },
 "nbformat": 4,
 "nbformat_minor": 2
}
