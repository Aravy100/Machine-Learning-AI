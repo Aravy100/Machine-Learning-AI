{
 "cells": [
  {
   "cell_type": "code",
   "execution_count": 1,
   "metadata": {},
   "outputs": [],
   "source": [
    "# Import Packages\n",
    "import numpy as np\n",
    "import pandas as pd\n",
    "import datetime as dt\n",
    "import matplotlib.pyplot as plt\n",
    "from sklearn import linear_model\n",
    "from sklearn.model_selection import train_test_split\n",
    "from sklearn.linear_model import LinearRegression\n",
    "from sklearn.metrics import mean_squared_error, r2_score\n",
    "import seaborn as sns\n",
    "import statsmodels.api as sm\n",
    "from sklearn.feature_selection import RFE\n",
    "from sklearn.linear_model import RidgeCV, LassoCV, Ridge, Lasso"
   ]
  },
  {
   "cell_type": "code",
   "execution_count": 3,
   "metadata": {},
   "outputs": [],
   "source": [
    "# Read CSV train data\n",
    "train = pd.read_csv(r\"C:\\Users\\kasthurirangan.sampa\\Downloads\\train_final.csv\")\n",
    "#train['date'] = pd.to_datetime(train['date'])\n",
    "state_list = train['state'].unique()"
   ]
  },
  {
   "cell_type": "code",
   "execution_count": 7,
   "metadata": {},
   "outputs": [],
   "source": [
    "state_list = train['state'].unique()\n",
    "state='Florida'"
   ]
  },
  {
   "cell_type": "code",
   "execution_count": 8,
   "metadata": {},
   "outputs": [
    {
     "name": "stdout",
     "output_type": "stream",
     "text": [
      "\n",
      " State: Florida\n"
     ]
    },
    {
     "data": {
      "text/html": [
       "<div>\n",
       "<style scoped>\n",
       "    .dataframe tbody tr th:only-of-type {\n",
       "        vertical-align: middle;\n",
       "    }\n",
       "\n",
       "    .dataframe tbody tr th {\n",
       "        vertical-align: top;\n",
       "    }\n",
       "\n",
       "    .dataframe thead th {\n",
       "        text-align: right;\n",
       "    }\n",
       "</style>\n",
       "<table border=\"1\" class=\"dataframe\">\n",
       "  <thead>\n",
       "    <tr style=\"text-align: right;\">\n",
       "      <th></th>\n",
       "      <th>date</th>\n",
       "      <th>retail_and_recreation_percent_change_from_baseline</th>\n",
       "      <th>grocery_and_pharmacy_percent_change_from_baseline</th>\n",
       "      <th>parks_percent_change_from_baseline</th>\n",
       "      <th>transit_stations_percent_change_from_baseline</th>\n",
       "      <th>residential_percent_change_from_baseline</th>\n",
       "      <th>mobility_index</th>\n",
       "    </tr>\n",
       "  </thead>\n",
       "  <tbody>\n",
       "    <tr>\n",
       "      <td>6850</td>\n",
       "      <td>43876</td>\n",
       "      <td>4</td>\n",
       "      <td>3</td>\n",
       "      <td>1.0</td>\n",
       "      <td>-5</td>\n",
       "      <td>0</td>\n",
       "      <td>151.31</td>\n",
       "    </tr>\n",
       "    <tr>\n",
       "      <td>6851</td>\n",
       "      <td>43877</td>\n",
       "      <td>5</td>\n",
       "      <td>2</td>\n",
       "      <td>0.0</td>\n",
       "      <td>-12</td>\n",
       "      <td>0</td>\n",
       "      <td>130.14</td>\n",
       "    </tr>\n",
       "    <tr>\n",
       "      <td>6852</td>\n",
       "      <td>43878</td>\n",
       "      <td>2</td>\n",
       "      <td>2</td>\n",
       "      <td>2.0</td>\n",
       "      <td>6</td>\n",
       "      <td>6</td>\n",
       "      <td>128.44</td>\n",
       "    </tr>\n",
       "    <tr>\n",
       "      <td>6853</td>\n",
       "      <td>43879</td>\n",
       "      <td>2</td>\n",
       "      <td>4</td>\n",
       "      <td>3.0</td>\n",
       "      <td>5</td>\n",
       "      <td>0</td>\n",
       "      <td>110.26</td>\n",
       "    </tr>\n",
       "    <tr>\n",
       "      <td>6854</td>\n",
       "      <td>43880</td>\n",
       "      <td>0</td>\n",
       "      <td>0</td>\n",
       "      <td>-2.0</td>\n",
       "      <td>-2</td>\n",
       "      <td>0</td>\n",
       "      <td>110.25</td>\n",
       "    </tr>\n",
       "  </tbody>\n",
       "</table>\n",
       "</div>"
      ],
      "text/plain": [
       "       date  retail_and_recreation_percent_change_from_baseline  \\\n",
       "6850  43876                                                  4    \n",
       "6851  43877                                                  5    \n",
       "6852  43878                                                  2    \n",
       "6853  43879                                                  2    \n",
       "6854  43880                                                  0    \n",
       "\n",
       "      grocery_and_pharmacy_percent_change_from_baseline  \\\n",
       "6850                                                  3   \n",
       "6851                                                  2   \n",
       "6852                                                  2   \n",
       "6853                                                  4   \n",
       "6854                                                  0   \n",
       "\n",
       "      parks_percent_change_from_baseline  \\\n",
       "6850                                 1.0   \n",
       "6851                                 0.0   \n",
       "6852                                 2.0   \n",
       "6853                                 3.0   \n",
       "6854                                -2.0   \n",
       "\n",
       "      transit_stations_percent_change_from_baseline  \\\n",
       "6850                                             -5   \n",
       "6851                                            -12   \n",
       "6852                                              6   \n",
       "6853                                              5   \n",
       "6854                                             -2   \n",
       "\n",
       "      residential_percent_change_from_baseline  mobility_index  \n",
       "6850                                         0          151.31  \n",
       "6851                                         0          130.14  \n",
       "6852                                         6          128.44  \n",
       "6853                                         0          110.26  \n",
       "6854                                         0          110.25  "
      ]
     },
     "execution_count": 8,
     "metadata": {},
     "output_type": "execute_result"
    }
   ],
   "source": [
    "#for state in state_list:\n",
    "print(\"\\n State:\",state)\n",
    "train_1 = train[train[\"state\"]=='Wyoming']    \n",
    "x=train_1.drop([\"gross_ma\",\"state\"],1)\n",
    "y=train_1[['date','gross_ma']]\n",
    "x.head()"
   ]
  },
  {
   "cell_type": "code",
   "execution_count": 9,
   "metadata": {},
   "outputs": [
    {
     "name": "stdout",
     "output_type": "stream",
     "text": [
      "\n",
      " State: Florida\n"
     ]
    }
   ],
   "source": [
    "print(\"\\n State:\",state)\n",
    "train_1 = train[train[\"state\"]=='Florida']    \n",
    "x=train_1.drop([\"date\",\"gross_ma\",\"state\"],1)\n",
    "y=train_1[['gross_ma']]"
   ]
  },
  {
   "cell_type": "code",
   "execution_count": 10,
   "metadata": {},
   "outputs": [
    {
     "data": {
      "text/plain": [
       "LinearRegression()"
      ]
     },
     "execution_count": 10,
     "metadata": {},
     "output_type": "execute_result"
    }
   ],
   "source": [
    "model = linear_model.LinearRegression()      \n",
    "model.fit(x, y)\n"
   ]
  },
  {
   "cell_type": "code",
   "execution_count": 19,
   "metadata": {},
   "outputs": [
    {
     "name": "stdout",
     "output_type": "stream",
     "text": [
      "                                                    Coefficient\n",
      "retail_and_recreation_percent_change_from_baseline     2.011851\n",
      "grocery_and_pharmacy_percent_change_from_baseline     -1.883239\n",
      "parks_percent_change_from_baseline                    -1.232737\n",
      "transit_stations_percent_change_from_baseline         17.942842\n",
      "residential_percent_change_from_baseline             -12.335078\n",
      "mobility_index                                         0.245093\n"
     ]
    }
   ],
   "source": [
    "coeff_df = pd.DataFrame(model.coef_[0], x.columns, columns=['Coefficient'])\n",
    "print(coeff_df)"
   ]
  },
  {
   "cell_type": "code",
   "execution_count": 14,
   "metadata": {},
   "outputs": [
    {
     "data": {
      "text/plain": [
       "array([  2.01185116,  -1.88323941,  -1.23273733,  17.94284228,\n",
       "       -12.33507833,   0.24509341])"
      ]
     },
     "execution_count": 14,
     "metadata": {},
     "output_type": "execute_result"
    }
   ],
   "source": [
    "model.coef_[0]"
   ]
  },
  {
   "cell_type": "code",
   "execution_count": 17,
   "metadata": {},
   "outputs": [
    {
     "data": {
      "text/plain": [
       "Index(['retail_and_recreation_percent_change_from_baseline',\n",
       "       'grocery_and_pharmacy_percent_change_from_baseline',\n",
       "       'parks_percent_change_from_baseline',\n",
       "       'transit_stations_percent_change_from_baseline',\n",
       "       'residential_percent_change_from_baseline', 'mobility_index'],\n",
       "      dtype='object')"
      ]
     },
     "execution_count": 17,
     "metadata": {},
     "output_type": "execute_result"
    }
   ],
   "source": [
    "x.columns"
   ]
  },
  {
   "cell_type": "code",
   "execution_count": 18,
   "metadata": {},
   "outputs": [
    {
     "data": {
      "text/plain": [
       "Index([u'retail_and_recreation_percent_change_from_baseline',\n",
       "       u'grocery_and_pharmacy_percent_change_from_baseline',\n",
       "       u'parks_percent_change_from_baseline',\n",
       "       u'transit_stations_percent_change_from_baseline',\n",
       "       u'residential_percent_change_from_baseline', u'mobility_index'],\n",
       "      dtype='object')"
      ]
     },
     "execution_count": 18,
     "metadata": {},
     "output_type": "execute_result"
    }
   ],
   "source": [
    "x.columns"
   ]
  },
  {
   "cell_type": "code",
   "execution_count": 17,
   "metadata": {},
   "outputs": [
    {
     "data": {
      "text/plain": [
       "Index([u'retail_and_recreation_percent_change_from_baseline',\n",
       "       u'grocery_and_pharmacy_percent_change_from_baseline',\n",
       "       u'parks_percent_change_from_baseline',\n",
       "       u'transit_stations_percent_change_from_baseline',\n",
       "       u'residential_percent_change_from_baseline', u'mobility_index'],\n",
       "      dtype='object')"
      ]
     },
     "execution_count": 17,
     "metadata": {},
     "output_type": "execute_result"
    }
   ],
   "source": [
    "columnlist"
   ]
  },
  {
   "cell_type": "code",
   "execution_count": 23,
   "metadata": {},
   "outputs": [
    {
     "name": "stdout",
     "output_type": "stream",
     "text": [
      "                                                    Coefficient\n",
      "retail_and_recreation_percent_change_from_baseline    10.413179\n",
      "grocery_and_pharmacy_percent_change_from_baseline     10.413179\n",
      "parks_percent_change_from_baseline                    10.413179\n",
      "transit_stations_percent_change_from_baseline         10.413179\n",
      "residential_percent_change_from_baseline              10.413179\n",
      "mobility_index                                        10.413179\n"
     ]
    }
   ],
   "source": [
    "model = linear_model.LinearRegression()      \n",
    "model.fit(x, y)\n",
    "coeff_df = pd.DataFrame(model.coef_[0], x.columns, columns=['Coefficient'])\n",
    "print(coeff_df)"
   ]
  },
  {
   "cell_type": "code",
   "execution_count": 36,
   "metadata": {},
   "outputs": [
    {
     "data": {
      "text/plain": [
       "Index(['retail_and_recreation_percent_change_from_baseline',\n",
       "       'grocery_and_pharmacy_percent_change_from_baseline',\n",
       "       'parks_percent_change_from_baseline',\n",
       "       'transit_stations_percent_change_from_baseline',\n",
       "       'residential_percent_change_from_baseline', 'mobility_index'],\n",
       "      dtype='object')"
      ]
     },
     "execution_count": 36,
     "metadata": {},
     "output_type": "execute_result"
    }
   ],
   "source": [
    "x_test.columns"
   ]
  },
  {
   "cell_type": "markdown",
   "metadata": {},
   "source": [
    "\n",
    "Output"
   ]
  },
  {
   "cell_type": "code",
   "execution_count": 42,
   "metadata": {},
   "outputs": [
    {
     "name": "stdout",
     "output_type": "stream",
     "text": [
      "            Actual   Predicted\n",
      "date                          \n",
      "2020-07-01  684.00  754.820212\n",
      "2020-07-02  681.43  765.396156\n",
      "2020-07-03  679.00  658.619136\n",
      "2020-07-04  656.57  441.509903\n",
      "2020-07-05  653.86  607.600666\n"
     ]
    },
    {
     "data": {
      "image/png": "[encoded data removed]",
      "text/plain": [
       "<Figure size 720x576 with 1 Axes>"
      ]
     },
     "metadata": {
      "needs_background": "light"
     },
     "output_type": "display_data"
    },
    {
     "name": "stdout",
     "output_type": "stream",
     "text": [
      "Intercept: \n",
      " 1049.6896023823863\n",
      "Root Mean Square Error \n",
      " 81.58869673775008\n",
      "R^2 Value: \n",
      " -16.74970834349216\n"
     ]
    }
   ],
   "source": [
    "df_test = pd.read_csv(r\"C:\\Users\\kasthurirangan.sampa\\Downloads\\test_final.csv\")\n",
    "df_test['date'] = pd.to_datetime(df_test['date'])\n",
    "data_test = df_test[df_test['state']=='Texas']\n",
    "data_test = data_test.drop(\"state\",1)\n",
    "data_test = data_test.set_index(\"date\",drop=True)\n",
    "\n",
    "x_test=data_test.iloc[:,0:6]\n",
    "#x_test = x_test.drop([\"workplaces_percent_change_from_baseline\"],1)\n",
    "y_test=data_test[\"gross_ma\"]\n",
    "y_pred = model.predict(x_test)\n",
    "\n",
    "df = pd.DataFrame({'Actual': y_test, 'Predicted': y_pred})\n",
    "print(df.head())\n",
    "\n",
    "df.plot(kind='bar',figsize=(10,8))\n",
    "plt.grid(which='major', linestyle='-', linewidth='0.5', color='green')\n",
    "plt.grid(which='minor', linestyle=':', linewidth='0.5', color='black')\n",
    "plt.show()\n",
    "\n",
    "# Root Mean Squared Deviation\n",
    "rmsd = np.sqrt(mean_squared_error(y_test, y_pred))      \n",
    "r2_value = r2_score(y_test, y_pred)                     \n",
    "\n",
    "print(\"Intercept: \\n\", model.intercept_)\n",
    "print(\"Root Mean Square Error \\n\", rmsd)\n",
    "print(\"R^2 Value: \\n\", r2_value)\n"
   ]
  },
  {
   "cell_type": "markdown",
   "metadata": {},
   "source": [
    "Training"
   ]
  },
  {
   "cell_type": "code",
   "execution_count": 37,
   "metadata": {},
   "outputs": [
    {
     "name": "stdout",
     "output_type": "stream",
     "text": [
      "                                                    Coefficient\n",
      "retail_and_recreation_percent_change_from_baseline    10.413179\n",
      "grocery_and_pharmacy_percent_change_from_baseline     -0.261759\n",
      "parks_percent_change_from_baseline                    -2.308659\n",
      "transit_stations_percent_change_from_baseline          8.506108\n",
      "residential_percent_change_from_baseline              -6.370618\n",
      "mobility_index                                         1.147570\n"
     ]
    }
   ],
   "source": [
    "df = pd.read_csv(r\"C:\\Users\\kasthurirangan.sampa\\Downloads\\train_ma.csv\")\n",
    "df['date'] = pd.to_datetime(df['date'])\n",
    "data = df[df['state']=='Texas']\n",
    "data = data.drop(\"state\",1)\n",
    "data = data.drop(\"date\",1)\n",
    "x=data.iloc[:,0:7]\n",
    "x = x.drop([\"workplaces_percent_change_from_baseline\"],1)\n",
    "y=data[\"gross_ma\"]\n",
    "model = linear_model.LinearRegression()\n",
    "model.fit(x, y)\n",
    "coeff_df = pd.DataFrame(model.coef_, x.columns, columns=['Coefficient'])\n",
    "print(coeff_df)\n"
   ]
  },
  {
   "cell_type": "code",
   "execution_count": 65,
   "metadata": {},
   "outputs": [
    {
     "data": {
      "text/plain": [
       "array([ 0.19449396,  0.11716075,  0.00169071, -0.09037731, -0.21572222,\n",
       "        0.08240659])"
      ]
     },
     "execution_count": 65,
     "metadata": {},
     "output_type": "execute_result"
    }
   ],
   "source": [
    "model.coef_"
   ]
  },
  {
   "cell_type": "code",
   "execution_count": 71,
   "metadata": {},
   "outputs": [],
   "source": [
    "coeff_df=pd.DataFrame(columns=x.columns)"
   ]
  },
  {
   "cell_type": "code",
   "execution_count": 75,
   "metadata": {},
   "outputs": [],
   "source": [
    "Error_report=pd.DataFrame(columns=['rmsd','r2_value','intercept','mape'])"
   ]
  },
  {
   "cell_type": "code",
   "execution_count": 72,
   "metadata": {},
   "outputs": [
    {
     "data": {
      "text/html": [
       "<div>\n",
       "<style scoped>\n",
       "    .dataframe tbody tr th:only-of-type {\n",
       "        vertical-align: middle;\n",
       "    }\n",
       "\n",
       "    .dataframe tbody tr th {\n",
       "        vertical-align: top;\n",
       "    }\n",
       "\n",
       "    .dataframe thead th {\n",
       "        text-align: right;\n",
       "    }\n",
       "</style>\n",
       "<table border=\"1\" class=\"dataframe\">\n",
       "  <thead>\n",
       "    <tr style=\"text-align: right;\">\n",
       "      <th></th>\n",
       "      <th>retail_and_recreation_percent_change_from_baseline</th>\n",
       "      <th>grocery_and_pharmacy_percent_change_from_baseline</th>\n",
       "      <th>parks_percent_change_from_baseline</th>\n",
       "      <th>transit_stations_percent_change_from_baseline</th>\n",
       "      <th>residential_percent_change_from_baseline</th>\n",
       "      <th>mobility_index</th>\n",
       "    </tr>\n",
       "  </thead>\n",
       "  <tbody>\n",
       "  </tbody>\n",
       "</table>\n",
       "</div>"
      ],
      "text/plain": [
       "Empty DataFrame\n",
       "Columns: [retail_and_recreation_percent_change_from_baseline, grocery_and_pharmacy_percent_change_from_baseline, parks_percent_change_from_baseline, transit_stations_percent_change_from_baseline, residential_percent_change_from_baseline, mobility_index]\n",
       "Index: []"
      ]
     },
     "execution_count": 72,
     "metadata": {},
     "output_type": "execute_result"
    }
   ],
   "source": [
    "coeff_df"
   ]
  },
  {
   "cell_type": "code",
   "execution_count": 77,
   "metadata": {},
   "outputs": [
    {
     "name": "stdout",
     "output_type": "stream",
     "text": [
      "\n",
      " Running for State: Alabama\n",
      "\n",
      " Running for State: Alaska\n",
      "\n",
      " Running for State: Arizona\n",
      "\n",
      " Running for State: Arkansas\n",
      "\n",
      " Running for State: California\n",
      "\n",
      " Running for State: Colorado\n",
      "\n",
      " Running for State: Connecticut\n",
      "\n",
      " Running for State: Delaware\n",
      "\n",
      " Running for State: Florida\n",
      "\n",
      " Running for State: Georgia\n",
      "\n",
      " Running for State: Hawaii\n",
      "\n",
      " Running for State: Idaho\n",
      "\n",
      " Running for State: Illinois\n",
      "\n",
      " Running for State: Indiana\n",
      "\n",
      " Running for State: Iowa\n",
      "\n",
      " Running for State: Kansas\n",
      "\n",
      " Running for State: Kentucky\n",
      "\n",
      " Running for State: Louisiana\n",
      "\n",
      " Running for State: Maine\n",
      "\n",
      " Running for State: Maryland\n",
      "\n",
      " Running for State: Massachusetts\n",
      "\n",
      " Running for State: Michigan\n",
      "\n",
      " Running for State: Minnesota\n",
      "\n",
      " Running for State: Mississippi\n",
      "\n",
      " Running for State: Missouri\n",
      "\n",
      " Running for State: Montana\n",
      "\n",
      " Running for State: Nebraska\n",
      "\n",
      " Running for State: Nevada\n",
      "\n",
      " Running for State: New Hampshire\n",
      "\n",
      " Running for State: New Jersey\n",
      "\n",
      " Running for State: New Mexico\n",
      "\n",
      " Running for State: New York\n",
      "\n",
      " Running for State: North Carolina\n",
      "\n",
      " Running for State: North Dakota\n",
      "\n",
      " Running for State: Ohio\n",
      "\n",
      " Running for State: Oklahoma\n",
      "\n",
      " Running for State: Oregon\n",
      "\n",
      " Running for State: Pennsylvania\n",
      "\n",
      " Running for State: Rhode Island\n",
      "\n",
      " Running for State: South Carolina\n",
      "\n",
      " Running for State: South Dakota\n",
      "\n",
      " Running for State: Tennessee\n",
      "\n",
      " Running for State: Texas\n",
      "\n",
      " Running for State: Utah\n",
      "\n",
      " Running for State: Vermont\n",
      "\n",
      " Running for State: Virginia\n",
      "\n",
      " Running for State: Washington\n",
      "\n",
      " Running for State: West Virginia\n",
      "\n",
      " Running for State: Wisconsin\n",
      "\n",
      " Running for State: Wyoming\n"
     ]
    }
   ],
   "source": [
    "df = pd.read_csv(r\"C:\\Users\\kasthurirangan.sampa\\Downloads\\train_ma.csv\")\n",
    "df_test = pd.read_csv(r\"C:\\Users\\kasthurirangan.sampa\\Downloads\\test_forecast.csv\")\n",
    "df_test['date'] = pd.to_datetime(df_test['date'])\n",
    "df['date'] = pd.to_datetime(df['date'])\n",
    "output=pd.DataFrame()\n",
    "for state in df.state.unique():\n",
    "    print(\"\\n Running for State: \"+state)\n",
    "    data = df[df['state']==state]\n",
    "    data = data.drop(\"state\",1)\n",
    "    data = data.drop(\"date\",1)\n",
    "    x=data.iloc[:,0:7]\n",
    "    x = x.drop([\"workplaces_percent_change_from_baseline\"],1)\n",
    "    x=x.fillna(method = 'ffill')\n",
    "    x=x.fillna(method = 'bfill')\n",
    "    y=data[\"gross_ma\"]\n",
    "    model = linear_model.LinearRegression()\n",
    "    model.fit(x, y)\n",
    "    coeff_df.loc[state]=model.coef_\n",
    "\n",
    "\n",
    "    data_test = df_test[df_test['state']==state]\n",
    "    data_test = data_test.drop(\"state\",1)\n",
    "    data_test = data_test.set_index(\"date\",drop=True)\n",
    "\n",
    "    x_test=data_test.iloc[:,0:6]\n",
    "    #x_test = x_test.drop([\"workplaces_percent_change_from_baseline\"],1)\n",
    "    y_test=data_test[\"gross_ma\"]\n",
    "    x_test=x_test.fillna(method = 'ffill')\n",
    "    x_test=x_test.fillna(method = 'bfill')\n",
    "    y_pred = model.predict(x_test)\n",
    "\n",
    "    out = pd.DataFrame({'Actual': y_test, 'Predicted': y_pred})\n",
    "    out['state']=state\n",
    "    output=output.append(out)\n",
    "    # Root Mean Squared Deviation\n",
    "    rmsd = np.sqrt(mean_squared_error(y_test, y_pred))\n",
    "    r2_value = r2_score(y_test, y_pred)\n",
    "    intercept=model.intercept_\n",
    "    mape=( abs((y_test - y_pred) / y_test).mean()) * 100\n",
    "    value=[rmsd,r2_value,intercept,mape]\n",
    "    Error_report.loc[state]=value\n",
    "\n",
    "output.to_csv(r\"C:\\Users\\kasthurirangan.sampa\\Downloads\\predicted_all_state.csv\")\n",
    "coeff_df.to_csv(r\"C:\\Users\\kasthurirangan.sampa\\Downloads\\predicted_all_states_coefficient.csv\")\n",
    "Error_report.to_csv(r\"C:\\Users\\kasthurirangan.sampa\\Downloads\\Model_Performance.csv\")"
   ]
  },
  {
   "cell_type": "code",
   "execution_count": 74,
   "metadata": {},
   "outputs": [
    {
     "data": {
      "text/plain": [
       "10.664170435561381"
      ]
     },
     "execution_count": 74,
     "metadata": {},
     "output_type": "execute_result"
    }
   ],
   "source": [
    "( abs((y_test - y_pred) / y_test).mean()) * 100"
   ]
  },
  {
   "cell_type": "code",
   "execution_count": 22,
   "metadata": {},
   "outputs": [
    {
     "name": "stdout",
     "output_type": "stream",
     "text": [
      "   Actual   Predicted\n",
      "1     634  670.433201\n",
      "3     638  709.859339\n",
      "5     663  711.897202\n",
      "7     666  691.320945\n"
     ]
    },
    {
     "data": {
      "image/png": "[encoded data removed]",
      "text/plain": [
       "<Figure size 720x576 with 1 Axes>"
      ]
     },
     "metadata": {
      "needs_background": "light"
     },
     "output_type": "display_data"
    },
    {
     "name": "stdout",
     "output_type": "stream",
     "text": [
      "Intercept: \n",
      " 1049.6896023823863\n",
      "Root Mean Square Error \n",
      " 48.79351737911673\n",
      "R^2 Value: \n",
      " -10.546807339078104\n",
      "My MAPE: 7.0467170427163754\n"
     ]
    }
   ],
   "source": [
    "df_test = pd.read_csv(r\"C:\\Users\\kasthurirangan.sampa\\Downloads\\forecast.csv\")\n",
    "df_test['date'] = pd.to_datetime(df_test['date'])\n",
    "data_test = df_test[df_test['state']=='Texas']\n",
    "data_test = data_test.drop(\"state\",1)\n",
    "data_test = data_test.drop(\"date\",1)\n",
    "data_test.head(10)\n",
    "x_test=data_test.iloc[:,0:6]\n",
    "#x_test = x_test.drop([\"workplaces_percent_change_from_baseline\"],1)\n",
    "y_test=data_test[\"gross_ma\"]\n",
    "y_pred = model.predict(x_test)\n",
    "df = pd.DataFrame({'Actual': y_test, 'Predicted': y_pred})\n",
    "\n"
   ]
  },
  {
   "cell_type": "code",
   "execution_count": 61,
   "metadata": {},
   "outputs": [
    {
     "data": {
      "text/plain": [
       "[]"
      ]
     },
     "execution_count": 61,
     "metadata": {},
     "output_type": "execute_result"
    }
   ],
   "source": [
    "x_test.columns[x_test.isna().any()].tolist()"
   ]
  },
  {
   "cell_type": "code",
   "execution_count": 79,
   "metadata": {},
   "outputs": [
    {
     "data": {
      "text/plain": [
       "Index(['retail_and_recreation_percent_change_from_baseline',\n",
       "       'grocery_and_pharmacy_percent_change_from_baseline',\n",
       "       'parks_percent_change_from_baseline',\n",
       "       'transit_stations_percent_change_from_baseline',\n",
       "       'residential_percent_change_from_baseline', 'mobility_index'],\n",
       "      dtype='object')"
      ]
     },
     "execution_count": 79,
     "metadata": {},
     "output_type": "execute_result"
    }
   ],
   "source": [
    "x.columns"
   ]
  },
  {
   "cell_type": "code",
   "execution_count": null,
   "metadata": {},
   "outputs": [],
   "source": []
  }
 ],
 "metadata": {
  "kernelspec": {
   "display_name": "Python 3",
   "language": "python",
   "name": "python3"
  },
  "language_info": {
   "codemirror_mode": {
    "name": "ipython",
    "version": 3
   },
   "file_extension": ".py",
   "mimetype": "text/x-python",
   "name": "python",
   "nbconvert_exporter": "python",
   "pygments_lexer": "ipython3",
   "version": "3.8.3"
  }
 },
 "nbformat": 4,
 "nbformat_minor": 2
}
